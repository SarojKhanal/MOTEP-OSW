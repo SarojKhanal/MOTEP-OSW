{
 "cells": [
  {
   "cell_type": "code",
   "execution_count": null,
   "id": "aee860e5",
   "metadata": {},
   "outputs": [],
   "source": [
    "import pandas as pd\n",
    "from geopy.geocoders import Nominatim\n",
    "\n",
    "# Load your CSV file\n",
    "df = pd.read_csv('pv_reference_2020.csv')\n",
    "\n",
    "# Initialize the geolocator\n",
    "geolocator = Nominatim(user_agent=\"geoapi\")\n",
    "\n",
    "# Function to get state from latitude and longitude\n",
    "def get_state(lat, long):\n",
    "    try:\n",
    "        location = geolocator.reverse((lat, long), exactly_one=True)\n",
    "        address = location.raw['address']\n",
    "        state = address.get('state', '')\n",
    "        return state\n",
    "    except:\n",
    "        return 'State Not Found'\n",
    "\n",
    "# Apply the function to each row in the dataframe\n",
    "df['state'] = df.apply(lambda row: get_state(row['latitude'], row['longitude']), axis=1)"
   ]
  },
  {
   "cell_type": "code",
   "execution_count": null,
   "id": "37700837",
   "metadata": {},
   "outputs": [],
   "source": [
    "df.to_csv('pv_reference_2020_state.csv', index=False)"
   ]
  },
  {
   "cell_type": "code",
   "execution_count": null,
   "id": "56dfc27f",
   "metadata": {},
   "outputs": [],
   "source": []
  }
 ],
 "metadata": {
  "kernelspec": {
   "display_name": "Python 3 (ipykernel)",
   "language": "python",
   "name": "python3"
  },
  "language_info": {
   "codemirror_mode": {
    "name": "ipython",
    "version": 3
   },
   "file_extension": ".py",
   "mimetype": "text/x-python",
   "name": "python",
   "nbconvert_exporter": "python",
   "pygments_lexer": "ipython3",
   "version": "3.10.13"
  }
 },
 "nbformat": 4,
 "nbformat_minor": 5
}
